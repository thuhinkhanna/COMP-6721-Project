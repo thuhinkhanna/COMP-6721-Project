{
  "nbformat": 4,
  "nbformat_minor": 0,
  "metadata": {
    "colab": {
      "provenance": [],
      "authorship_tag": "ABX9TyM305L1tJVgEIjovMI4ezcw",
      "include_colab_link": true
    },
    "kernelspec": {
      "name": "python3",
      "display_name": "Python 3"
    },
    "language_info": {
      "name": "python"
    }
  },
  "cells": [
    {
      "cell_type": "markdown",
      "metadata": {
        "id": "view-in-github",
        "colab_type": "text"
      },
      "source": [
        "<a href=\"https://colab.research.google.com/github/thuhinkhanna/COMP-6721-Project/blob/main/AI_Project_Fashion_Patterns_Dataset.ipynb\" target=\"_parent\"><img src=\"https://colab.research.google.com/assets/colab-badge.svg\" alt=\"Open In Colab\"/></a>"
      ]
    },
    {
      "cell_type": "code",
      "source": [
        "!pip install kaggle\n",
        "!mkdir ~/.kaggle\n",
        "!cp kaggle.json ~/.kaggle\n",
        "!chmod 600 ~/.kaggle/kaggle.json"
      ],
      "metadata": {
        "id": "qtKO_WZCtRSB"
      },
      "execution_count": null,
      "outputs": []
    },
    {
      "cell_type": "code",
      "execution_count": null,
      "metadata": {
        "colab": {
          "base_uri": "https://localhost:8080/"
        },
        "id": "-Qf72MJNtLvb",
        "outputId": "16df2a08-4bc2-4c8f-910e-05129d90cc25"
      },
      "outputs": [
        {
          "output_type": "stream",
          "name": "stdout",
          "text": [
            "Downloading fashion-dataset-with-over-15000-labelled-images.zip to /content\n",
            "\r  0% 0.00/438k [00:00<?, ?B/s]\n",
            "\r100% 438k/438k [00:00<00:00, 25.5MB/s]\n"
          ]
        }
      ],
      "source": [
        "!kaggle datasets download -d nitinsss/fashion-dataset-with-over-15000-labelled-images"
      ]
    },
    {
      "cell_type": "code",
      "source": [
        "!ls"
      ],
      "metadata": {
        "colab": {
          "base_uri": "https://localhost:8080/"
        },
        "id": "DF7scXrtt4jz",
        "outputId": "df0cdb05-11b1-4e6a-9d20-6c7a8da2eaa8"
      },
      "execution_count": null,
      "outputs": [
        {
          "output_type": "stream",
          "name": "stdout",
          "text": [
            "fashion-dataset-with-over-15000-labelled-images.zip  kaggle.json  sample_data\n"
          ]
        }
      ]
    },
    {
      "cell_type": "code",
      "source": [
        "!unzip fashion-dataset-with-over-15000-labelled-images.zip\n",
        "!ls"
      ],
      "metadata": {
        "colab": {
          "base_uri": "https://localhost:8080/"
        },
        "id": "4p0z8Oi4t5w5",
        "outputId": "2940d670-29dc-4b75-c2bc-84c6aad07577"
      },
      "execution_count": null,
      "outputs": [
        {
          "output_type": "stream",
          "name": "stdout",
          "text": [
            "Archive:  fashion-dataset-with-over-15000-labelled-images.zip\n",
            "  inflating: dress.csv               \n",
            "dress.csv  fashion-dataset-with-over-15000-labelled-images.zip\tkaggle.json  sample_data\n"
          ]
        }
      ]
    },
    {
      "cell_type": "code",
      "source": [
        "import pandas as pd\n",
        "\n",
        "df = pd.read_csv('/content/dress.csv', error_bad_lines=False)"
      ],
      "metadata": {
        "colab": {
          "base_uri": "https://localhost:8080/"
        },
        "id": "DqbSZaxbuRt1",
        "outputId": "4175381b-9094-4b7a-fe9b-c26c94f86e50"
      },
      "execution_count": null,
      "outputs": [
        {
          "output_type": "stream",
          "name": "stderr",
          "text": [
            "<ipython-input-7-4f2227a68d9a>:3: FutureWarning: The error_bad_lines argument has been deprecated and will be removed in a future version. Use on_bad_lines in the future.\n",
            "\n",
            "\n",
            "  df = pd.read_csv('/content/dress.csv', error_bad_lines=False)\n"
          ]
        }
      ]
    },
    {
      "cell_type": "code",
      "source": [
        "df.shape"
      ],
      "metadata": {
        "colab": {
          "base_uri": "https://localhost:8080/"
        },
        "id": "qvx4OLnSvX-G",
        "outputId": "b66080ff-7378-4774-d7f0-97d163d74ed2"
      },
      "execution_count": null,
      "outputs": [
        {
          "output_type": "execute_result",
          "data": {
            "text/plain": [
              "(15702, 4)"
            ]
          },
          "metadata": {},
          "execution_count": 8
        }
      ]
    },
    {
      "cell_type": "code",
      "source": [
        "df.head"
      ],
      "metadata": {
        "colab": {
          "base_uri": "https://localhost:8080/"
        },
        "id": "kG7-akIQvbE5",
        "outputId": "60d62a88-ae02-47a8-8593-da7d558684ac"
      },
      "execution_count": null,
      "outputs": [
        {
          "output_type": "execute_result",
          "data": {
            "text/plain": [
              "<bound method NDFrame.head of         _unit_id   category  category:confidence  \\\n",
              "0      851505458       ikat               0.3487   \n",
              "1      851505459      plain               1.0000   \n",
              "2      851505460  polka dot               0.6709   \n",
              "3      851505461      plain               1.0000   \n",
              "4      851505462   geometry               0.7035   \n",
              "...          ...        ...                  ...   \n",
              "15697  854497210      plain               1.0000   \n",
              "15698  854497281     floral               1.0000   \n",
              "15699  854497512    squares               0.9230   \n",
              "15700  854497595     tribal               0.5199   \n",
              "15701  856388654  polka dot               0.9618   \n",
              "\n",
              "                                               image_url  \n",
              "0      http://s3-eu-west-1.amazonaws.com/we-attribute...  \n",
              "1      http://s3-eu-west-1.amazonaws.com/we-attribute...  \n",
              "2      http://s3-eu-west-1.amazonaws.com/we-attribute...  \n",
              "3      http://s3-eu-west-1.amazonaws.com/we-attribute...  \n",
              "4      http://s3-eu-west-1.amazonaws.com/we-attribute...  \n",
              "...                                                  ...  \n",
              "15697  http://s3-eu-west-1.amazonaws.com/we-attribute...  \n",
              "15698  http://s3-eu-west-1.amazonaws.com/we-attribute...  \n",
              "15699  http://s3-eu-west-1.amazonaws.com/we-attribute...  \n",
              "15700  http://s3-eu-west-1.amazonaws.com/we-attribute...  \n",
              "15701  http://s3-eu-west-1.amazonaws.com/we-attribute...  \n",
              "\n",
              "[15702 rows x 4 columns]>"
            ]
          },
          "metadata": {},
          "execution_count": 9
        }
      ]
    },
    {
      "cell_type": "code",
      "source": [
        "df['category'].unique()"
      ],
      "metadata": {
        "colab": {
          "base_uri": "https://localhost:8080/"
        },
        "id": "uARBF-V5vfz2",
        "outputId": "0fa77e9a-f39f-43f2-fbe3-084bac1539c8"
      },
      "execution_count": null,
      "outputs": [
        {
          "output_type": "execute_result",
          "data": {
            "text/plain": [
              "array(['ikat', 'plain', 'polka dot', 'geometry', 'floral', 'squares',\n",
              "       'scales', 'animal', 'OTHER', 'stripes', 'tribal', 'houndstooth',\n",
              "       'cartoon', 'chevron', 'stars', 'letter_numb', 'skull'],\n",
              "      dtype=object)"
            ]
          },
          "metadata": {},
          "execution_count": 10
        }
      ]
    },
    {
      "cell_type": "code",
      "source": [
        "df['category'].nunique()"
      ],
      "metadata": {
        "colab": {
          "base_uri": "https://localhost:8080/"
        },
        "id": "mQ0ZgnQyy1IO",
        "outputId": "7504778b-0fe3-4367-f2b4-342c8af87418"
      },
      "execution_count": null,
      "outputs": [
        {
          "output_type": "execute_result",
          "data": {
            "text/plain": [
              "17"
            ]
          },
          "metadata": {},
          "execution_count": 11
        }
      ]
    }
  ]
}