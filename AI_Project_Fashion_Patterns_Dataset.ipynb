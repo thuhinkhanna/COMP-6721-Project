{
  "nbformat": 4,
  "nbformat_minor": 0,
  "metadata": {
    "colab": {
      "provenance": []
    },
    "kernelspec": {
      "name": "python3",
      "display_name": "Python 3"
    },
    "language_info": {
      "name": "python"
    }
  },
  "cells": [
    {
      "cell_type": "code",
      "execution_count": 1,
      "metadata": {
        "colab": {
          "base_uri": "https://localhost:8080/"
        },
        "id": "l2YN-_PM61jf",
        "outputId": "946d8c14-f919-47a7-911b-94064e2671ab"
      },
      "outputs": [
        {
          "output_type": "stream",
          "name": "stdout",
          "text": [
            "Mounted at /content/drive\n"
          ]
        }
      ],
      "source": [
        "from google.colab import drive\n",
        "drive.mount('/content/drive')"
      ]
    },
    {
      "cell_type": "code",
      "execution_count": 2,
      "metadata": {
        "colab": {
          "base_uri": "https://localhost:8080/"
        },
        "outputId": "1343c975-77db-4992-81f2-877fca8a59a5",
        "id": "HMzNrmwwvnPX"
      },
      "outputs": [
        {
          "output_type": "stream",
          "name": "stdout",
          "text": [
            "Requirement already satisfied: kaggle in /usr/local/lib/python3.10/dist-packages (1.5.16)\n",
            "Requirement already satisfied: six>=1.10 in /usr/local/lib/python3.10/dist-packages (from kaggle) (1.16.0)\n",
            "Requirement already satisfied: certifi in /usr/local/lib/python3.10/dist-packages (from kaggle) (2024.2.2)\n",
            "Requirement already satisfied: python-dateutil in /usr/local/lib/python3.10/dist-packages (from kaggle) (2.8.2)\n",
            "Requirement already satisfied: requests in /usr/local/lib/python3.10/dist-packages (from kaggle) (2.31.0)\n",
            "Requirement already satisfied: tqdm in /usr/local/lib/python3.10/dist-packages (from kaggle) (4.66.2)\n",
            "Requirement already satisfied: python-slugify in /usr/local/lib/python3.10/dist-packages (from kaggle) (8.0.4)\n",
            "Requirement already satisfied: urllib3 in /usr/local/lib/python3.10/dist-packages (from kaggle) (2.0.7)\n",
            "Requirement already satisfied: bleach in /usr/local/lib/python3.10/dist-packages (from kaggle) (6.1.0)\n",
            "Requirement already satisfied: webencodings in /usr/local/lib/python3.10/dist-packages (from bleach->kaggle) (0.5.1)\n",
            "Requirement already satisfied: text-unidecode>=1.3 in /usr/local/lib/python3.10/dist-packages (from python-slugify->kaggle) (1.3)\n",
            "Requirement already satisfied: charset-normalizer<4,>=2 in /usr/local/lib/python3.10/dist-packages (from requests->kaggle) (3.3.2)\n",
            "Requirement already satisfied: idna<4,>=2.5 in /usr/local/lib/python3.10/dist-packages (from requests->kaggle) (3.6)\n"
          ]
        }
      ],
      "source": [
        "!pip install kaggle\n",
        "!mkdir ~/.kaggle\n",
        "!cp /content/drive/MyDrive/AI_Project/kaggle.json ~/.kaggle/\n",
        "!chmod 600 ~/.kaggle/kaggle.json"
      ]
    },
    {
      "cell_type": "code",
      "execution_count": 3,
      "metadata": {
        "colab": {
          "base_uri": "https://localhost:8080/"
        },
        "id": "zeTz5O2kAj8U",
        "outputId": "1103c081-6221-484e-b586-e42828834ed8"
      },
      "outputs": [
        {
          "output_type": "stream",
          "name": "stdout",
          "text": [
            "drive  sample_data\n"
          ]
        }
      ],
      "source": [
        "!ls"
      ]
    },
    {
      "cell_type": "code",
      "execution_count": 4,
      "metadata": {
        "colab": {
          "base_uri": "https://localhost:8080/"
        },
        "outputId": "58820959-12e4-4a96-9e84-75dbe2d2ea04",
        "id": "Nw8nesyVvnPX"
      },
      "outputs": [
        {
          "output_type": "stream",
          "name": "stdout",
          "text": [
            "fashion-dataset-with-over-15000-labelled-images.zip: Skipping, found more recently modified local copy (use --force to force download)\n"
          ]
        }
      ],
      "source": [
        "#!kaggle datasets download -d nitinsss/fashion-dataset-with-over-15000-labelled-images\n",
        "!kaggle datasets download -d nitinsss/fashion-dataset-with-over-15000-labelled-images -p /content/drive/MyDrive/AI_Project"
      ]
    },
    {
      "cell_type": "code",
      "execution_count": 5,
      "metadata": {
        "colab": {
          "base_uri": "https://localhost:8080/"
        },
        "outputId": "2262fcef-445f-43f3-e715-fdb5d4595277",
        "id": "vOYbvgT8vnPY"
      },
      "outputs": [
        {
          "output_type": "stream",
          "name": "stdout",
          "text": [
            "drive  sample_data\n"
          ]
        }
      ],
      "source": [
        "!ls"
      ]
    },
    {
      "cell_type": "code",
      "execution_count": 6,
      "metadata": {
        "colab": {
          "base_uri": "https://localhost:8080/"
        },
        "outputId": "078e38c9-15b0-4473-935b-c159de608eea",
        "id": "AO5p346BvnPY"
      },
      "outputs": [
        {
          "output_type": "stream",
          "name": "stdout",
          "text": [
            "Archive:  /content/drive/MyDrive/AI_Project/fashion-dataset-with-over-15000-labelled-images.zip\n",
            "replace /content/drive/MyDrive/AI_Project/dress.csv? [y]es, [n]o, [A]ll, [N]one, [r]ename: yes\n",
            "  inflating: /content/drive/MyDrive/AI_Project/dress.csv  \n",
            "dress.csv  fashion-dataset-with-over-15000-labelled-images.zip\tkaggle.json\n"
          ]
        }
      ],
      "source": [
        "#!unzip fashion-dataset-with-over-15000-labelled-images.zip\n",
        "!unzip /content/drive/MyDrive/AI_Project/fashion-dataset-with-over-15000-labelled-images.zip -d /content/drive/MyDrive/AI_Project\n",
        "!ls /content/drive/MyDrive/AI_Project"
      ]
    },
    {
      "cell_type": "code",
      "execution_count": 7,
      "metadata": {
        "id": "4hU93PUHvnPY"
      },
      "outputs": [],
      "source": [
        "import pandas as pd\n",
        "\n",
        "df = pd.read_csv('/content/drive/MyDrive/AI_Project/dress.csv',on_bad_lines='skip')"
      ]
    },
    {
      "cell_type": "code",
      "execution_count": 8,
      "metadata": {
        "colab": {
          "base_uri": "https://localhost:8080/"
        },
        "outputId": "e1930a49-5317-4adb-ccf4-e02ef48b9a9c",
        "id": "0aCLrvDQvnPY"
      },
      "outputs": [
        {
          "output_type": "execute_result",
          "data": {
            "text/plain": [
              "(15702, 4)"
            ]
          },
          "metadata": {},
          "execution_count": 8
        }
      ],
      "source": [
        "df.shape"
      ]
    },
    {
      "cell_type": "code",
      "execution_count": 9,
      "metadata": {
        "colab": {
          "base_uri": "https://localhost:8080/"
        },
        "outputId": "cf65dcfd-fa19-4c14-a627-c42f0c34bd05",
        "id": "-zIlICncvnPY"
      },
      "outputs": [
        {
          "output_type": "execute_result",
          "data": {
            "text/plain": [
              "Index(['_unit_id', 'category', 'category:confidence', 'image_url'], dtype='object')"
            ]
          },
          "metadata": {},
          "execution_count": 9
        }
      ],
      "source": [
        "df.head\n",
        "df.columns"
      ]
    },
    {
      "cell_type": "markdown",
      "metadata": {
        "id": "gPl6nWC_Gc7i"
      },
      "source": []
    },
    {
      "cell_type": "code",
      "execution_count": 10,
      "metadata": {
        "colab": {
          "base_uri": "https://localhost:8080/"
        },
        "outputId": "098d896d-9ab4-4645-b70f-e08f43a05b7b",
        "id": "I7kFnGb5vnPf"
      },
      "outputs": [
        {
          "output_type": "execute_result",
          "data": {
            "text/plain": [
              "array(['ikat', 'plain', 'polka dot', 'geometry', 'floral', 'squares',\n",
              "       'scales', 'animal', 'OTHER', 'stripes', 'tribal', 'houndstooth',\n",
              "       'cartoon', 'chevron', 'stars', 'letter_numb', 'skull'],\n",
              "      dtype=object)"
            ]
          },
          "metadata": {},
          "execution_count": 10
        }
      ],
      "source": [
        "df['category'].unique()"
      ]
    },
    {
      "cell_type": "code",
      "execution_count": 11,
      "metadata": {
        "colab": {
          "base_uri": "https://localhost:8080/"
        },
        "outputId": "1830e8f6-1b01-4ed4-f1e1-6d105ef4dc00",
        "id": "Qd47oBiMvnPf"
      },
      "outputs": [
        {
          "output_type": "execute_result",
          "data": {
            "text/plain": [
              "17"
            ]
          },
          "metadata": {},
          "execution_count": 11
        }
      ],
      "source": [
        "df['category'].nunique()\n"
      ]
    },
    {
      "cell_type": "code",
      "execution_count": 12,
      "metadata": {
        "colab": {
          "base_uri": "https://localhost:8080/"
        },
        "id": "Zx4gtNvx7h02",
        "outputId": "fd3752a7-36b5-45e2-9606-51d2560d1c73"
      },
      "outputs": [
        {
          "output_type": "execute_result",
          "data": {
            "text/plain": [
              "(14355, 4)"
            ]
          },
          "metadata": {},
          "execution_count": 12
        }
      ],
      "source": [
        "df= df[(df['category']!='OTHER')&(df['category']!='cartoon')&(df['category']!='tribal')&(df['category']!='houndstooth')]\n",
        "df.shape"
      ]
    },
    {
      "cell_type": "code",
      "execution_count": 13,
      "metadata": {
        "colab": {
          "base_uri": "https://localhost:8080/",
          "height": 620
        },
        "id": "XU9SeHYjdqi3",
        "outputId": "7bcc5bf7-e709-4c53-88a5-efb0efffd00e"
      },
      "outputs": [
        {
          "output_type": "display_data",
          "data": {
            "text/plain": [
              "<Figure size 1000x600 with 1 Axes>"
            ],
            "image/png": "[encoded data removed]"
          },
          "metadata": {}
        }
      ],
      "source": [
        "import matplotlib.pyplot as plt\n",
        "category_counts = df['category'].value_counts()\n",
        "\n",
        "plt.figure(figsize=(10, 6))\n",
        "category_counts.plot(kind='bar')\n",
        "plt.title('Count of Each Category')\n",
        "plt.xlabel('Category')\n",
        "plt.ylabel('Count')\n",
        "plt.xticks(rotation=45, ha='right')\n",
        "plt.show()\n"
      ]
    },
    {
      "cell_type": "code",
      "source": [
        "import os\n",
        "import requests\n",
        "import numpy as np\n",
        "import cv2\n",
        "import zipfile\n",
        "from io import BytesIO\n",
        "from PIL import Image\n",
        "from multiprocessing import Pool\n",
        "\n",
        "def process_image(image_np):\n",
        "    # Read the numpy arrays as color images in OpenCV\n",
        "    image_bgr = cv2.imdecode(image_np, cv2.IMREAD_COLOR)\n",
        "\n",
        "    # Convert to HSV for creating a mask\n",
        "    image_hsv = cv2.cvtColor(image_bgr, cv2.COLOR_BGR2HSV)\n",
        "\n",
        "    # Create a mask that detects the red rectangular tags present in each image\n",
        "    mask = cv2.inRange(image_hsv, (0, 255, 255), (0, 255, 255))\n",
        "\n",
        "    # Get the coordinates of the red rectangle in the image,\n",
        "    # But take entire image if mask fails to detect the red rectangle\n",
        "    if len(np.where(mask != 0)[0]) != 0:\n",
        "        y1 = min(np.where(mask != 0)[0])\n",
        "        y2 = max(np.where(mask != 0)[0])\n",
        "    else:\n",
        "        y1 = 0\n",
        "        y2 = len(mask)\n",
        "\n",
        "    if len(np.where(mask != 0)[1]) != 0:\n",
        "        x1 = min(np.where(mask != 0)[1])\n",
        "        x2 = max(np.where(mask != 0)[1])\n",
        "    else:\n",
        "        x1 = 0\n",
        "        x2 = len(mask[0])\n",
        "\n",
        "    # Crop the image along those coordinates\n",
        "    image_cropped = image_bgr[y1:y2, x1:x2]\n",
        "    image_resized = cv2.resize(image_cropped, (70, 70))\n",
        "    image_rgb = cv2.cvtColor(image_resized, cv2.COLOR_BGR2RGB)\n",
        "    image = Image.fromarray(image_rgb)\n",
        "    return image\n",
        "\n",
        "    '''# Crop the image along those coordinates\n",
        "    image_cropped = image_bgr[y1:y2, x1:x2]\n",
        "    image_resized = cv2.resize(image_cropped, (70, 70))\n",
        "    image_rgb = cv2.cvtColor(image_resized, cv2.COLOR_BGR2RGB)\n",
        "    image=Image.fromarray(image_rgb)\n",
        "    return image'''\n",
        "\n",
        "def download_image_and_save(row):\n",
        "    image_url = row['image_url']\n",
        "    response = requests.get(image_url)\n",
        "\n",
        "    if response.status_code == 200:\n",
        "        image_np = np.asarray(bytearray(response.content), dtype=np.uint8)\n",
        "        cropped_image = process_image(image_np)\n",
        "\n",
        "        # Save the preprocessed image directly into the in-memory zip file\n",
        "        image_bytes = BytesIO()\n",
        "        cropped_image.save(image_bytes, format='JPEG')\n",
        "        return image_bytes.getvalue(), f\"{row['category']}/{row['_unit_id']}.jpg\"\n",
        "    else:\n",
        "        print(f\"Failed to download image from URL: {image_url}\")\n",
        "        return None, None\n",
        "\n",
        "def download_images_in_batch(batch_df):\n",
        "    images_to_zip = []\n",
        "    with Pool(processes=os.cpu_count()) as pool:\n",
        "        results = pool.map(download_image_and_save, [row for _, row in batch_df.iterrows()])\n",
        "\n",
        "    for result in results:\n",
        "        if result[0] is not None:\n",
        "            image_bytes, zip_path = result\n",
        "            images_to_zip.append((image_bytes, zip_path))\n",
        "\n",
        "    return images_to_zip\n",
        "\n"
      ],
      "metadata": {
        "id": "mHwVxfa5xuBE"
      },
      "execution_count": 14,
      "outputs": []
    },
    {
      "cell_type": "code",
      "source": [
        "# Define output zip file name\n",
        "zip_filename = 'drive/MyDrive/images_2.zip'\n",
        "batch_size = 100\n",
        "\n",
        "# Create a zip file in-memory\n",
        "i=1\n",
        "with zipfile.ZipFile(zip_filename, 'w') as zipf:\n",
        "    for batch_idx in range(0, len(df), batch_size):\n",
        "        batch_df = df.iloc[batch_idx:batch_idx + batch_size]\n",
        "        images_to_zip = download_images_in_batch(batch_df)\n",
        "        print(f'batch{i}')\n",
        "        i+=1\n",
        "        for image_bytes, zip_path in images_to_zip:\n",
        "            zipf.writestr(zip_path, image_bytes)\n",
        "\n",
        "print(\"All images zipped successfully.\")"
      ],
      "metadata": {
        "id": "uTHb6_sFx0i0"
      },
      "execution_count": null,
      "outputs": []
    }
  ]
}